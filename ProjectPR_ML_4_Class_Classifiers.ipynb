{
 "cells": [
  {
   "cell_type": "markdown",
   "metadata": {},
   "source": [
    "# We used 6 classifiers and compared their performence.  As we split our Train and Test data randomly, so we can expect different performence of models for every new run. "
   ]
  },
  {
   "cell_type": "code",
   "execution_count": 1,
   "metadata": {},
   "outputs": [],
   "source": [
    "import pandas as pd\n",
    "import numpy as np\n",
    "import seaborn as sn\n",
    "import matplotlib.pyplot as plt\n",
    "import sklearn.preprocessing\n",
    "from pandas.plotting import scatter_matrix\n",
    "from sklearn.model_selection import train_test_split\n",
    "from sklearn.linear_model import LogisticRegression\n",
    "from sklearn.ensemble import RandomForestClassifier, AdaBoostClassifier\n",
    "from sklearn.tree import DecisionTreeClassifier\n",
    "from sklearn.naive_bayes import GaussianNB\n",
    "from sklearn.neighbors import KNeighborsClassifier\n",
    "from sklearn.svm import SVC\n",
    "from sklearn.metrics import f1_score, accuracy_score, precision_score, recall_score\n",
    "from sklearn.metrics import confusion_matrix"
   ]
  },
  {
   "cell_type": "code",
   "execution_count": 2,
   "metadata": {},
   "outputs": [],
   "source": [
    "from sklearn.model_selection import GridSearchCV, cross_val_score\n",
    "def k_Fold_CV(x, y):\n",
    "    param_grid_knn = {'n_neighbors': np.arange(7, 21, 7)}\n",
    "    param_grid_svm = {'C': np.logspace(0, 3, 4), 'gamma': np.logspace(-2, 1, 4), 'kernel':['linear', 'poly', 'rbf']}\n",
    "    param_grid_dt = {'max_depth': np.arange(2, 10, 2)}\n",
    "    param_grid_rdf = {'n_estimators': np.arange(50, 100, 10), 'max_depth': np.arange(2, 10, 2)}\n",
    "    param_grid_ln = {'solver': ['lbfgs', 'sag', 'newton-cg']}\n",
    "    param_grid_nb = {'var_smoothing': np.array([1e-09])}\n",
    "\n",
    "    models = [('KNN', KNeighborsClassifier(), param_grid_knn), ('SVM', SVC(), param_grid_svm),\n",
    "              ('DT', DecisionTreeClassifier(), param_grid_dt), ('RDF', RandomForestClassifier(), param_grid_rdf),\n",
    "              ('LN', LogisticRegression(), param_grid_ln), ('NB', GaussianNB(), param_grid_nb)]\n",
    "    best_cv_score = []\n",
    "    mean_cv_score = []\n",
    "\n",
    "    for name, model, param_grid in models:\n",
    "        grid_cv = GridSearchCV(model, param_grid, cv=5).fit(x, y)\n",
    "        print(\"Best parameters for : \", name, \" is \", grid_cv.best_params_)\n",
    "        print(\"%.1f%% accuracy on validation sets (average)\" % (grid_cv.best_score_*100))\n",
    "        best_cv_score.append(grid_cv.best_score_)\n",
    "        ac_score = cross_val_score(model, x, y, cv=5, scoring='accuracy')\n",
    "        mean_cv_score.append(ac_score.mean())\n",
    "    return best_cv_score, mean_cv_score"
   ]
  },
  {
   "cell_type": "code",
   "execution_count": 3,
   "metadata": {},
   "outputs": [],
   "source": [
    "def model_svm(X_train, X_test, y_train, y_test):\n",
    "    model = SVC(C = 100.0, kernel='rbf', gamma=0.01).fit(X_train,y_train)\n",
    "    accuracy_train = model.score(X_train, y_train)\n",
    "    accuracy_test = model.score(X_test, y_test)\n",
    "    return model, accuracy_train, accuracy_test"
   ]
  },
  {
   "cell_type": "code",
   "execution_count": 4,
   "metadata": {},
   "outputs": [],
   "source": [
    "def model_logistic(X_train, X_test, y_train, y_test):\n",
    "    model = LogisticRegression(multi_class='multinomial',solver ='lbfgs').fit(X_train,y_train)\n",
    "    accuracy_train = model.score(X_train, y_train)\n",
    "    accuracy_test = model.score(X_test, y_test)\n",
    "    return model, accuracy_train, accuracy_test"
   ]
  },
  {
   "cell_type": "code",
   "execution_count": 5,
   "metadata": {},
   "outputs": [],
   "source": [
    "def model_randomForest(X_train, X_test, y_train, y_test):\n",
    "    model = RandomForestClassifier(n_estimators=90,max_depth = 8).fit(X_train,y_train)\n",
    "    accuracy_train = model.score(X_train, y_train)\n",
    "    accuracy_test = model.score(X_test, y_test)\n",
    "    return model, accuracy_train, accuracy_test"
   ]
  },
  {
   "cell_type": "code",
   "execution_count": 6,
   "metadata": {},
   "outputs": [],
   "source": [
    "def model_DecisionTree(X_train, X_test, y_train, y_test):\n",
    "    model = DecisionTreeClassifier(max_depth = 8).fit(X_train,y_train)\n",
    "    accuracy_train = model.score(X_train, y_train)\n",
    "    accuracy_test = model.score(X_test, y_test)\n",
    "    return model, accuracy_train, accuracy_test"
   ]
  },
  {
   "cell_type": "code",
   "execution_count": 7,
   "metadata": {},
   "outputs": [],
   "source": [
    "def model_NaiveBayes(X_train, X_test, y_train, y_test):\n",
    "    model = GaussianNB().fit(X_train,y_train)\n",
    "    accuracy_train = model.score(X_train, y_train)\n",
    "    accuracy_test = model.score(X_test, y_test)\n",
    "    return model, accuracy_train, accuracy_test"
   ]
  },
  {
   "cell_type": "code",
   "execution_count": 8,
   "metadata": {},
   "outputs": [],
   "source": [
    "def model_KNeighbors(X_train, X_test, y_train, y_test):\n",
    "    model = KNeighborsClassifier(n_neighbors = 14).fit(X_train, y_train) \n",
    "    accuracy_train = model.score(X_train, y_train)\n",
    "    accuracy_test = model.score(X_test, y_test)\n",
    "    return model, accuracy_train, accuracy_test"
   ]
  },
  {
   "cell_type": "code",
   "execution_count": 9,
   "metadata": {},
   "outputs": [],
   "source": [
    "def ConfusionMatrix(y_true, y_pred, title):\n",
    "    cm = confusion_matrix(y_true, y_pred)\n",
    "    cm_df = pd.DataFrame(cm,['COW','CAR', 'HOUSE', 'TREE'], ['COW','CAR', 'HOUSE', 'TREE'])                      \n",
    "    f, ax = plt.subplots(figsize=(6, 4))\n",
    "    sn.heatmap(cm_df, annot=True, fmt=\"d\")\n",
    "    ax.set_title(title)\n",
    "    ax.set_ylabel('True label')\n",
    "    ax.set_xlabel('Predicted label')\n",
    "    ax.xaxis.set_ticks_position('top')\n",
    "    ax.xaxis.set_label_position('top')"
   ]
  },
  {
   "cell_type": "code",
   "execution_count": 10,
   "metadata": {},
   "outputs": [],
   "source": [
    "# calculate accurecy\n",
    "def calculate_accurecy(y_true, y_pred):   \n",
    "    accuracy = accuracy_score(y_true, y_pred)\n",
    "    recall = recall_score(y_true, y_pred, average='weighted')\n",
    "    precision = precision_score(y_true, y_pred, average='weighted')\n",
    "    F1 = 2*(precision*recall)/(precision+recall)\n",
    "    model_perm = np.array([\"%.3f\" %accuracy, \"%.3f\" %recall, \"%.3f\" %precision, \"%.3f\" %F1])\n",
    "    model_perm1 =np.asarray(model_perm, dtype='float64')*100\n",
    "    print('accuracy:%.3f'%accuracy)\n",
    "    print('recall:%.3f'%recall)\n",
    "    print('precision:%.3f'%precision)\n",
    "    print('F1:%.3f'%F1)\n",
    "#     print(model_perm)\n",
    "    return accuracy, recall, precision, F1, model_perm1"
   ]
  },
  {
   "cell_type": "markdown",
   "metadata": {},
   "source": [
    "## We have 4 statistical meausres: moment, mean, variance and skeness. We have total 12 features. We are not using moment as it is all zero. Also discrded all the data labeled with 0.   "
   ]
  },
  {
   "cell_type": "code",
   "execution_count": 11,
   "metadata": {},
   "outputs": [],
   "source": [
    "df1 = pd.read_csv('data_csv/data_cow.csv', names=[x for x in range(13)])\n",
    "df2 = pd.read_csv('data_csv/data_car.csv', names=[x for x in range(13)])\n",
    "df3 = pd.read_csv('data_csv/data_house.csv', names=[x for x in range(13)])\n",
    "df4 = pd.read_csv('data_csv/data_tree.csv', names=[x for x in range(13)])\n",
    "frames = [df1, df2, df3, df4]\n",
    "df = pd.concat(frames)\n",
    "df = df.loc[df[12] != 0] \n",
    "df = df.sample(frac=1).reset_index(drop=True)\n",
    "X = df[[x for x in range(9)]]\n",
    "Y = df[12]\n",
    "vc = df[12].value_counts()\n",
    "# vc.plot.bar()\n",
    "vc = np.asarray(vc)\n",
    "# vc\n",
    "# X"
   ]
  },
  {
   "cell_type": "code",
   "execution_count": 12,
   "metadata": {},
   "outputs": [
    {
     "data": {
      "image/png": "[encoded data removed]",
      "text/plain": [
       "<Figure size 432x288 with 1 Axes>"
      ]
     },
     "metadata": {
      "needs_background": "light"
     },
     "output_type": "display_data"
    }
   ],
   "source": [
    "data = [vc[0], vc[1], vc[2], vc[3]]\n",
    "labels = [\"Cow\", \"Car\", \"House\", \"Tree\"]\n",
    "title = \"Data Size of each Class\"\n",
    "\n",
    "x = np.arange(4)\n",
    "fig, ax = plt.subplots()\n",
    "ax.set_ylabel('Data Size')\n",
    "ax.set_title(title)\n",
    "plt.bar(x, data)\n",
    "plt.xticks(x, labels)\n",
    "plt.show()"
   ]
  },
  {
   "cell_type": "code",
   "execution_count": 92,
   "metadata": {},
   "outputs": [],
   "source": [
    "## Data split into train and test\n",
    "X_train, X_test, y_train, y_test = train_test_split(X, Y, test_size=0.3, random_state=0)\n",
    "## Data scaling\n",
    "scaler = sklearn.preprocessing.StandardScaler()\n",
    "# scaler = sklearn.preprocessing.RobustScaler()\n",
    "# scaler = sklearn.preprocessing.MinMaxScaler()\n",
    "X_train = scaler.fit_transform(X_train)\n",
    "X_test = scaler.transform(X_test)\n",
    "# y_test.value_counts()"
   ]
  },
  {
   "cell_type": "code",
   "execution_count": 59,
   "metadata": {},
   "outputs": [
    {
     "name": "stdout",
     "output_type": "stream",
     "text": [
      "Best parameters for :  KNN  is  {'n_neighbors': 14}\n",
      "56.6% accuracy on validation sets (average)\n",
      "Best parameters for :  SVM  is  {'C': 100.0, 'gamma': 0.01, 'kernel': 'rbf'}\n",
      "69.4% accuracy on validation sets (average)\n",
      "Best parameters for :  DT  is  {'max_depth': 8}\n",
      "58.3% accuracy on validation sets (average)\n",
      "Best parameters for :  RDF  is  {'max_depth': 8, 'n_estimators': 90}\n",
      "64.7% accuracy on validation sets (average)\n",
      "Best parameters for :  LN  is  {'solver': 'lbfgs'}\n",
      "58.7% accuracy on validation sets (average)\n",
      "Best parameters for :  NB  is  {'var_smoothing': 1e-09}\n",
      "43.4% accuracy on validation sets (average)\n"
     ]
    },
    {
     "data": {
      "text/plain": [
       "([0.5659574468085107,\n",
       "  0.6936170212765957,\n",
       "  0.5829787234042553,\n",
       "  0.6468085106382979,\n",
       "  0.5872340425531914,\n",
       "  0.4340425531914893],\n",
       " [0.5787234042553191,\n",
       "  0.6595744680851063,\n",
       "  0.5914893617021277,\n",
       "  0.625531914893617,\n",
       "  0.5872340425531914,\n",
       "  0.4340425531914893])"
      ]
     },
     "execution_count": 59,
     "metadata": {},
     "output_type": "execute_result"
    }
   ],
   "source": [
    "from  warnings import simplefilter\n",
    "from sklearn.exceptions import ConvergenceWarning\n",
    "simplefilter(action='ignore', category=ConvergenceWarning)\n",
    "simplefilter(action='ignore', category=FutureWarning)\n",
    "\n",
    "k_Fold_CV(scaler.fit_transform(X), Y)"
   ]
  },
  {
   "cell_type": "code",
   "execution_count": 105,
   "metadata": {},
   "outputs": [
    {
     "name": "stdout",
     "output_type": "stream",
     "text": [
      "0.8536585365853658 0.676056338028169\n",
      " \n",
      "Trining Accuracy SVM\n",
      "accuracy:0.854\n",
      "recall:0.854\n",
      "precision:0.855\n",
      "F1:0.854\n",
      " \n",
      "Test Accuracy SVM\n",
      "accuracy:0.676\n",
      "recall:0.676\n",
      "precision:0.691\n",
      "F1:0.683\n",
      "[85.4 85.4 85.5 85.4]\n",
      "[67.6 67.6 69.1 68.3]\n"
     ]
    },
    {
     "data": {
      "image/png": "[encoded data removed]",
      "text/plain": [
       "<Figure size 432x288 with 2 Axes>"
      ]
     },
     "metadata": {
      "needs_background": "light"
     },
     "output_type": "display_data"
    }
   ],
   "source": [
    "modelsvm, accuracy_train, accuracy_test = model_svm(X_train, X_test, y_train, y_test)\n",
    "print(accuracy_train, accuracy_test)\n",
    "y_pred = modelsvm.predict(X_test)\n",
    "title = \"Confusion Matrix (SVM)\"\n",
    "ConfusionMatrix(y_test, y_pred, title)\n",
    "# Training Error for SVM\n",
    "print(' ')\n",
    "print(\"Trining Accuracy SVM\")\n",
    "y_pred = modelsvm.predict(X_train)\n",
    "_, _, _, _, svm0 = calculate_accurecy(y_train, y_pred)\n",
    "# Test Error for LG\n",
    "print(' ')\n",
    "print(\"Test Accuracy SVM\")\n",
    "y_pred = modelsvm.predict(X_test)\n",
    "_, _, _, _, svm1 =calculate_accurecy(y_test, y_pred)\n",
    "print(svm0)\n",
    "print(svm1)"
   ]
  },
  {
   "cell_type": "code",
   "execution_count": 106,
   "metadata": {},
   "outputs": [
    {
     "name": "stdout",
     "output_type": "stream",
     "text": [
      "0.6341463414634146 0.49295774647887325\n",
      " \n",
      "Trining Accuracy LG\n",
      "accuracy:0.634\n",
      "recall:0.634\n",
      "precision:0.622\n",
      "F1:0.628\n",
      " \n",
      "Test Accuracy LG\n",
      "accuracy:0.493\n",
      "recall:0.493\n",
      "precision:0.458\n",
      "F1:0.475\n"
     ]
    },
    {
     "data": {
      "image/png": "[encoded data removed]",
      "text/plain": [
       "<Figure size 432x288 with 2 Axes>"
      ]
     },
     "metadata": {
      "needs_background": "light"
     },
     "output_type": "display_data"
    }
   ],
   "source": [
    "model_lg, accuracy_train, accuracy_test = model_logistic(X_train, X_test, y_train, y_test)\n",
    "print(accuracy_train, accuracy_test)\n",
    "y_pred = model_lg.predict(X_test)\n",
    "title = \"Confusion Matrix (Logistic Regression)\"\n",
    "ConfusionMatrix(y_test, y_pred, title)\n",
    "# Training Error for LG\n",
    "print(' ')\n",
    "print(\"Trining Accuracy LG\")\n",
    "y_pred = model_lg.predict(X_train)\n",
    "_, _, _, _, lg0 =calculate_accurecy(y_train, y_pred)\n",
    "# Test Error for LG\n",
    "print(' ')\n",
    "print(\"Test Accuracy LG\")\n",
    "y_pred = model_lg.predict(X_test)\n",
    "_, _, _, _, lg1 =calculate_accurecy(y_test, y_pred)\n"
   ]
  },
  {
   "cell_type": "code",
   "execution_count": 107,
   "metadata": {},
   "outputs": [
    {
     "name": "stdout",
     "output_type": "stream",
     "text": [
      "1.0 0.6056338028169014\n",
      " \n",
      "Trining Accuracy RDF\n",
      "accuracy:1.000\n",
      "recall:1.000\n",
      "precision:1.000\n",
      "F1:1.000\n",
      " \n",
      "Test Accuracy RDF\n",
      "accuracy:0.606\n",
      "recall:0.606\n",
      "precision:0.607\n",
      "F1:0.606\n"
     ]
    },
    {
     "data": {
      "image/png": "[encoded data removed]",
      "text/plain": [
       "<Figure size 432x288 with 2 Axes>"
      ]
     },
     "metadata": {
      "needs_background": "light"
     },
     "output_type": "display_data"
    }
   ],
   "source": [
    "model_rdf, accuracy_train, accuracy_test = model_randomForest(X_train, X_test, y_train, y_test)\n",
    "print(accuracy_train, accuracy_test)\n",
    "y_pred = model_rdf.predict(X_test)\n",
    "title = \"Confusion Matrix (Random Forest)\"\n",
    "ConfusionMatrix(y_test, y_pred, title)\n",
    "# Training Error\n",
    "print(' ')\n",
    "print(\"Trining Accuracy RDF\")\n",
    "y_pred = model_rdf.predict(X_train)\n",
    "_, _, _, _, rdf0 =calculate_accurecy(y_train, y_pred)\n",
    "# Test Error\n",
    "print(' ')\n",
    "print(\"Test Accuracy RDF\")\n",
    "y_pred = model_rdf.predict(X_test)\n",
    "_, _, _, _, rdf1 =calculate_accurecy(y_test, y_pred)"
   ]
  },
  {
   "cell_type": "code",
   "execution_count": 108,
   "metadata": {},
   "outputs": [
    {
     "name": "stdout",
     "output_type": "stream",
     "text": [
      "0.9512195121951219 0.4788732394366197\n",
      " \n",
      "Trining Accuracy DT\n",
      "accuracy:0.951\n",
      "recall:0.951\n",
      "precision:0.959\n",
      "F1:0.955\n",
      " \n",
      "Test Accuracy DT\n",
      "accuracy:0.479\n",
      "recall:0.479\n",
      "precision:0.539\n",
      "F1:0.507\n"
     ]
    },
    {
     "data": {
      "image/png": "[encoded data removed]",
      "text/plain": [
       "<Figure size 432x288 with 2 Axes>"
      ]
     },
     "metadata": {
      "needs_background": "light"
     },
     "output_type": "display_data"
    }
   ],
   "source": [
    "model_dt, accuracy_train, accuracy_test = model_DecisionTree(X_train, X_test, y_train, y_test)\n",
    "print(accuracy_train, accuracy_test)\n",
    "y_pred = model_dt.predict(X_test)\n",
    "title = \"Confusion Matrix (Decision Tree)\"\n",
    "ConfusionMatrix(y_test, y_pred, title)\n",
    "# Training Error\n",
    "print(' ')\n",
    "print(\"Trining Accuracy DT\")\n",
    "y_pred = model_dt.predict(X_train)\n",
    "_, _, _, _, dt0 =calculate_accurecy(y_train, y_pred)\n",
    "# Test Error\n",
    "print(' ')\n",
    "print(\"Test Accuracy DT\")\n",
    "y_pred = model_dt.predict(X_test)\n",
    "_, _, _, _, dt1 =calculate_accurecy(y_test, y_pred)"
   ]
  },
  {
   "cell_type": "code",
   "execution_count": 109,
   "metadata": {},
   "outputs": [
    {
     "name": "stdout",
     "output_type": "stream",
     "text": [
      "0.524390243902439 0.4084507042253521\n",
      " \n",
      "Trining Accuracy NB\n",
      "accuracy:0.524\n",
      "recall:0.524\n",
      "precision:0.551\n",
      "F1:0.537\n",
      " \n",
      "Test Accuracy NB\n",
      "accuracy:0.408\n",
      "recall:0.408\n",
      "precision:0.381\n",
      "F1:0.394\n"
     ]
    },
    {
     "data": {
      "image/png": "[encoded data removed]",
      "text/plain": [
       "<Figure size 432x288 with 2 Axes>"
      ]
     },
     "metadata": {
      "needs_background": "light"
     },
     "output_type": "display_data"
    }
   ],
   "source": [
    "model_nbs, accuracy_train, accuracy_test = model_NaiveBayes(X_train, X_test, y_train, y_test)\n",
    "print(accuracy_train, accuracy_test)\n",
    "y_pred = model_nbs.predict(X_test)\n",
    "title = \"Confusion Matrix (Naive Bayes)\"\n",
    "ConfusionMatrix(y_test, y_pred, title)\n",
    "# Training Error\n",
    "print(' ')\n",
    "print(\"Trining Accuracy NB\")\n",
    "y_pred = model_nbs.predict(X_train)\n",
    "_, _, _, _, nb0 =calculate_accurecy(y_train, y_pred)\n",
    "# Test Error\n",
    "print(' ')\n",
    "print(\"Test Accuracy NB\")\n",
    "y_pred = model_nbs.predict(X_test)\n",
    "_, _, _, _, nb1 =calculate_accurecy(y_test, y_pred)"
   ]
  },
  {
   "cell_type": "code",
   "execution_count": 110,
   "metadata": {},
   "outputs": [
    {
     "name": "stdout",
     "output_type": "stream",
     "text": [
      "0.6646341463414634 0.5070422535211268\n",
      " \n",
      "Trining Accuracy KNN\n",
      "accuracy:0.665\n",
      "recall:0.665\n",
      "precision:0.670\n",
      "F1:0.667\n",
      " \n",
      "Test Accuracy KNN\n",
      "accuracy:0.507\n",
      "recall:0.507\n",
      "precision:0.514\n",
      "F1:0.510\n"
     ]
    },
    {
     "data": {
      "image/png": "[encoded data removed]",
      "text/plain": [
       "<Figure size 432x288 with 2 Axes>"
      ]
     },
     "metadata": {
      "needs_background": "light"
     },
     "output_type": "display_data"
    }
   ],
   "source": [
    "model_knn, accuracy_train, accuracy_test = model_KNeighbors(X_train, X_test, y_train, y_test)\n",
    "print(accuracy_train, accuracy_test)\n",
    "y_pred = model_knn.predict(X_test)\n",
    "title = \"Confusion Matrix (KNN)\"\n",
    "ConfusionMatrix(y_test, y_pred, title)\n",
    "# Training Error\n",
    "print(' ')\n",
    "print(\"Trining Accuracy KNN\")\n",
    "y_pred = model_knn.predict(X_train)\n",
    "_, _, _, _, knn0 =calculate_accurecy(y_train, y_pred)\n",
    "# Test Error\n",
    "print(' ')\n",
    "print(\"Test Accuracy KNN\")\n",
    "y_pred = model_knn.predict(X_test)\n",
    "_, _, _, _, knn1 =calculate_accurecy(y_test, y_pred)\n"
   ]
  },
  {
   "cell_type": "code",
   "execution_count": 114,
   "metadata": {},
   "outputs": [],
   "source": [
    "def bar_chat(labels, svm, lg, rdf, dt, nb, knn, title):\n",
    "    x = np.arange(len(labels))  # the label locations\n",
    "    width = 0.15  # the width of the bars\n",
    "\n",
    "    fig, ax = plt.subplots(figsize=(8, 5))\n",
    "    ax.bar(x - 2.5*width, svm, width, label='SVM')\n",
    "    ax.bar(x - 1.5*width, lg, width, label='LN')\n",
    "    ax.bar(x - 0.5*width, rdf, width, label='RDF')\n",
    "    ax.bar(x + 0.5*width, dt, width, label='DT')\n",
    "    ax.bar(x + 1.5*width, nb, width, label='NB')\n",
    "    ax.bar(x + 2.5*width, knn, width, label='KNN')\n",
    "\n",
    "    # Add some text for labels, title and custom x-axis tick labels, etc.\n",
    "    ax.set_ylabel('Rate %')\n",
    "    ax.set_title(title)\n",
    "    ax.set_xticks(x)\n",
    "    ax.set_xticklabels(labels)\n",
    "    ax.set_ylim([0,100])\n",
    "    ax.legend()\n",
    "\n",
    "    fig.tight_layout()\n",
    "    plt.show()\n",
    "    "
   ]
  },
  {
   "cell_type": "code",
   "execution_count": 115,
   "metadata": {},
   "outputs": [
    {
     "data": {
      "image/png": "[encoded data removed]",
      "text/plain": [
       "<Figure size 576x360 with 1 Axes>"
      ]
     },
     "metadata": {
      "needs_background": "light"
     },
     "output_type": "display_data"
    }
   ],
   "source": [
    "labels = ['Acc', 'Recall', 'Pre', 'F1']   \n",
    "title = 'Models Performance (test)'\n",
    "bar_chat(labels, svm1, lg1, rdf1, dt1, nb1, knn1, title)"
   ]
  },
  {
   "cell_type": "code",
   "execution_count": 116,
   "metadata": {},
   "outputs": [
    {
     "data": {
      "image/png": "[encoded data removed]",
      "text/plain": [
       "<Figure size 576x360 with 1 Axes>"
      ]
     },
     "metadata": {
      "needs_background": "light"
     },
     "output_type": "display_data"
    }
   ],
   "source": [
    "labels = ['Acc', 'Recall', 'Pre', 'F1']   \n",
    "title = 'Models Performance (training)'\n",
    "bar_chat(labels, svm0, lg0, rdf0, dt0, nb0, knn0, title)"
   ]
  },
  {
   "cell_type": "code",
   "execution_count": null,
   "metadata": {},
   "outputs": [],
   "source": []
  },
  {
   "cell_type": "code",
   "execution_count": null,
   "metadata": {},
   "outputs": [],
   "source": []
  }
 ],
 "metadata": {
  "kernelspec": {
   "display_name": "Python 3",
   "language": "python",
   "name": "python3"
  },
  "language_info": {
   "codemirror_mode": {
    "name": "ipython",
    "version": 3
   },
   "file_extension": ".py",
   "mimetype": "text/x-python",
   "name": "python",
   "nbconvert_exporter": "python",
   "pygments_lexer": "ipython3",
   "version": "3.7.3"
  }
 },
 "nbformat": 4,
 "nbformat_minor": 2
}
